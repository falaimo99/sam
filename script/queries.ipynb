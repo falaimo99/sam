{
 "cells": [
  {
   "cell_type": "markdown",
   "id": "53f65363",
   "metadata": {},
   "source": [
    "# SPARQL queries for SAM\n",
    "In this notebook are present all the SPARQL queries devised in order to answer the competency questions and test the model's compliance. "
   ]
  },
  {
   "cell_type": "code",
   "execution_count": 1,
   "id": "e0965cd1",
   "metadata": {},
   "outputs": [],
   "source": [
    "# Uncomment this section if the dependencies are needed and you want to install\n",
    "# them globally or on the current environment\n",
    "#! pip install rdflib pandas jinja2"
   ]
  },
  {
   "cell_type": "code",
   "execution_count": 2,
   "id": "475cecf6",
   "metadata": {},
   "outputs": [
    {
     "data": {
      "text/html": [
       "<style type=\"text/css\">\n",
       "</style>\n",
       "<table id=\"T_390aa\">\n",
       "  <thead>\n",
       "    <tr>\n",
       "      <th id=\"T_390aa_level0_col0\" class=\"col_heading level0 col0\" >subject</th>\n",
       "      <th id=\"T_390aa_level0_col1\" class=\"col_heading level0 col1\" >predicate</th>\n",
       "      <th id=\"T_390aa_level0_col2\" class=\"col_heading level0 col2\" >object</th>\n",
       "    </tr>\n",
       "  </thead>\n",
       "  <tbody>\n",
       "    <tr>\n",
       "      <td id=\"T_390aa_row0_col0\" class=\"data row0 col0\" >datasam:Novella_del_Grasso_Legnaiuolo_anonimo_Scene3</td>\n",
       "      <td id=\"T_390aa_row0_col1\" class=\"data row0 col1\" >sam:hasSetting</td>\n",
       "      <td id=\"T_390aa_row0_col2\" class=\"data row0 col2\" >datasam:Novella_del_Grasso_Legnaiuolo_anonimo_bottegadiManettoAmmattini</td>\n",
       "    </tr>\n",
       "    <tr>\n",
       "      <td id=\"T_390aa_row1_col0\" class=\"data row1 col0\" >datasam:Belfagor_Arcidiavolo_Machiavelli_CharacterList</td>\n",
       "      <td id=\"T_390aa_row1_col1\" class=\"data row1 col1\" >wdp:P527</td>\n",
       "      <td id=\"T_390aa_row1_col2\" class=\"data row1 col2\" >datasam:Belfagor_Arcidiavolo_Machiavelli_Belfagor</td>\n",
       "    </tr>\n",
       "    <tr>\n",
       "      <td id=\"T_390aa_row2_col0\" class=\"data row2 col0\" >datasam:Novella_del_Grasso_Legnaiuolo_anonimo_Scene13</td>\n",
       "      <td id=\"T_390aa_row2_col1\" class=\"data row2 col1\" >sam:referenceMaterial</td>\n",
       "      <td id=\"T_390aa_row2_col2\" class=\"data row2 col2\" >datasam:Novella_del_Grasso_Legnaiuolo_anonimo_Scene13_excerpt</td>\n",
       "    </tr>\n",
       "    <tr>\n",
       "      <td id=\"T_390aa_row3_col0\" class=\"data row3 col0\" >datasam:Novella_del_Grasso_Legnaiuolo_anonimo_Scene3</td>\n",
       "      <td id=\"T_390aa_row3_col1\" class=\"data row3 col1\" >sam:referenceMaterial</td>\n",
       "      <td id=\"T_390aa_row3_col2\" class=\"data row3 col2\" >datasam:Novella_del_Grasso_Legnaiuolo_anonimo_Scene3_excerpt</td>\n",
       "    </tr>\n",
       "    <tr>\n",
       "      <td id=\"T_390aa_row4_col0\" class=\"data row4 col0\" >datasam:novellino_II_anonimo_prestoGiovanni_name</td>\n",
       "      <td id=\"T_390aa_row4_col1\" class=\"data row4 col1\" >rdf:type</td>\n",
       "      <td id=\"T_390aa_row4_col2\" class=\"data row4 col2\" >wdt:Q82799</td>\n",
       "    </tr>\n",
       "    <tr>\n",
       "      <td id=\"T_390aa_row5_col0\" class=\"data row5 col0\" >datasam:Belfagor_Arcidiavolo_Machiavelli_scene12</td>\n",
       "      <td id=\"T_390aa_row5_col1\" class=\"data row5 col1\" >sam:hasSetting</td>\n",
       "      <td id=\"T_390aa_row5_col2\" class=\"data row5 col2\" >datasam:Belfagor_Arcidiavolo_Machiavelli_Hell</td>\n",
       "    </tr>\n",
       "    <tr>\n",
       "      <td id=\"T_390aa_row6_col0\" class=\"data row6 col0\" >datasam:Novella_del_Grasso_Legnaiuolo_anonimo_Scene5</td>\n",
       "      <td id=\"T_390aa_row6_col1\" class=\"data row6 col1\" >rdf:type</td>\n",
       "      <td id=\"T_390aa_row6_col2\" class=\"data row6 col2\" >sam:Scene</td>\n",
       "    </tr>\n",
       "    <tr>\n",
       "      <td id=\"T_390aa_row7_col0\" class=\"data row7 col0\" >datasam:novellino_II_anonimo_scene1_excerpt</td>\n",
       "      <td id=\"T_390aa_row7_col1\" class=\"data row7 col1\" >sam:referenceMaterialSource</td>\n",
       "      <td id=\"T_390aa_row7_col2\" class=\"data row7 col2\" >https://it.wikisource.org/w/index.php?title=Novellino/I</td>\n",
       "    </tr>\n",
       "    <tr>\n",
       "      <td id=\"T_390aa_row8_col0\" class=\"data row8 col0\" >datasam:Novella_del_Grasso_Legnaiuolo_anonimo_Scene13</td>\n",
       "      <td id=\"T_390aa_row8_col1\" class=\"data row8 col1\" >wdp:P710</td>\n",
       "      <td id=\"T_390aa_row8_col2\" class=\"data row8 col2\" >datasam:Novella_del_Grasso_Legnaiuolo_anonimo_fratelliDiMatteo</td>\n",
       "    </tr>\n",
       "    <tr>\n",
       "      <td id=\"T_390aa_row9_col0\" class=\"data row9 col0\" >datasam:Belfagor_Arcidiavolo_Machiavelli_CharacterList</td>\n",
       "      <td id=\"T_390aa_row9_col1\" class=\"data row9 col1\" >wdp:P527</td>\n",
       "      <td id=\"T_390aa_row9_col2\" class=\"data row9 col2\" >datasam:Belfagor_Arcidiavolo_Machiavelli_BonajutoTebalducci</td>\n",
       "    </tr>\n",
       "  </tbody>\n",
       "</table>\n"
      ],
      "text/plain": [
       "<pandas.io.formats.style.Styler at 0x7f9b44d6c980>"
      ]
     },
     "execution_count": 2,
     "metadata": {},
     "output_type": "execute_result"
    }
   ],
   "source": [
    "# In this block\n",
    "from rdflib import Graph, Namespace, Literal\n",
    "from rdflib.namespace import NamespaceManager\n",
    "import pandas as pd\n",
    "\n",
    "def setting_the_graph():\n",
    "    g = Graph()\n",
    "    g.parse(location=\"dataset.ttl\")\n",
    "\n",
    "    datasam = Namespace(\"https://github.com/falaimo99/sam/data/\")\n",
    "    sam = Namespace(\"https://purl.org/samcore#\")\n",
    "    wdt = Namespace(\"https://www.wikidata.org/wiki/\")\n",
    "    wdp = Namespace(\"https://www.wikidata.org/wiki/Property:\")\n",
    "    cwrc = Namespace(\"https://sparql.cwrc.ca/ontologies/cwrc.html#\")\n",
    "    rel = Namespace(\"https://vocab.org/relationship/#\")\n",
    "\n",
    "    g.bind(\"datasam\", datasam)\n",
    "    g.bind(\"sam\", sam)\n",
    "    g.bind(\"wdt\", wdt)\n",
    "    g.bind(\"wdp\", wdp)\n",
    "    g.bind(\"cwrc\", cwrc)\n",
    "    g.bind(\"rel\", rel)\n",
    "\n",
    "    return g\n",
    "\n",
    "# Similarly to the main script we first set the graph and then start a \n",
    "# NamespaceManager object to improve visualization\n",
    "g = setting_the_graph()\n",
    "nm = NamespaceManager(g)\n",
    "\n",
    "# test query\n",
    "q = \"\"\"\n",
    "SELECT ?subject ?predicate ?object WHERE {?subject ?predicate ?object} LIMIT 10\n",
    "\"\"\"\n",
    "\n",
    "#this function automatizes the query visualization through pandas returning a \n",
    "# Dataframe that can be easily exported and used for analysis purposes\n",
    "def print_query(g, q):\n",
    "    data = {}\n",
    "\n",
    "    col_counter = 0\n",
    "    columns = []\n",
    "    query_result = g.query(q)\n",
    "    query_result_len = query_result.vars.__len__()\n",
    "    for col in range(query_result_len):\n",
    "        col_name = nm.normalizeUri(query_result.vars[col_counter])[1:]\n",
    "        columns.append(col_name)\n",
    "        data[col_name] = []\n",
    "        col_counter += 1\n",
    "\n",
    "    col_counter = 0\n",
    "    for r in range(query_result_len):\n",
    "        for r in query_result:\n",
    "            # This conditional checks for the class of each row element\n",
    "            # if not checked normalizeUri would rise an error\n",
    "            if type(r[col_counter]) != Literal:\n",
    "                data[columns[col_counter]].append(nm.normalizeUri(r[col_counter]))\n",
    "            else:\n",
    "                data[columns[col_counter]].append(r[col_counter])\n",
    "        col_counter += 1\n",
    "    \n",
    "    df = pd.DataFrame(data, columns=columns)\n",
    "    pd.set_option('display.max_colwidth', None)\n",
    "    return df.style.hide(axis=\"index\")\n",
    "\n",
    "print_query(g, q)"
   ]
  },
  {
   "cell_type": "markdown",
   "id": "e5120c1e",
   "metadata": {},
   "source": [
    "## Character queries\n",
    "### Meta\n",
    "- Query 1. How many characters are present in a given story?\n",
    "### Diegetic\n",
    "- Query 2. Does he/she/they belong to a distinct group (organization, ethnic group, otherworldly beings, nation)?  \n",
    "- Query 3. What’s their name? Do they have any aliases? \n",
    "- Query 4. The aliases or name are assigned by which other character or group of characters?\n",
    "- Query 5. Are they part of a group of characters?\n",
    "- Query 6. What’s their gender?\n",
    "- Query 7. What’s their occupation or diegetic role?\n",
    "- Query 8. Has the character gone through a change?\n",
    " \n",
    "### Narratological:\n",
    "- Query 9. What is a usable definition of a character in this context?\n",
    "- Query 10. What narratological role does the character assume? \n",
    "- Query 11. Are they part of a recognizable pattern? Possibly coming from The Periodic Table of Storytelling (Hero’s journey, Five man band, etc.)\n",
    "- Query 12. Which style choices are made when referring to the character? \n",
    "\n"
   ]
  },
  {
   "cell_type": "code",
   "execution_count": 3,
   "id": "7703015e",
   "metadata": {},
   "outputs": [
    {
     "data": {
      "text/html": [
       "<style type=\"text/css\">\n",
       "</style>\n",
       "<table id=\"T_2cf15\">\n",
       "  <thead>\n",
       "    <tr>\n",
       "      <th id=\"T_2cf15_level0_col0\" class=\"col_heading level0 col0\" >character</th>\n",
       "      <th id=\"T_2cf15_level0_col1\" class=\"col_heading level0 col1\" >name</th>\n",
       "      <th id=\"T_2cf15_level0_col2\" class=\"col_heading level0 col2\" >named_by</th>\n",
       "    </tr>\n",
       "  </thead>\n",
       "  <tbody>\n",
       "    <tr>\n",
       "      <td id=\"T_2cf15_row0_col0\" class=\"data row0 col0\" >datasam:Novella_del_Grasso_Legnaiuolo_anonimo_ManettoAmmattini</td>\n",
       "      <td id=\"T_2cf15_row0_col1\" class=\"data row0 col1\" >Matteo</td>\n",
       "      <td id=\"T_2cf15_row0_col2\" class=\"data row0 col2\" >datasam:Novella_del_Grasso_Legnaiuolo_anonimo_jokeMembers</td>\n",
       "    </tr>\n",
       "  </tbody>\n",
       "</table>\n"
      ],
      "text/plain": [
       "<pandas.io.formats.style.Styler at 0x7f9b44e7b750>"
      ]
     },
     "execution_count": 3,
     "metadata": {},
     "output_type": "execute_result"
    }
   ],
   "source": [
    "from modules.queries import character_queries\n",
    "\n",
    "# Change options according to your requested query, Character, and Story\n",
    "options = {\n",
    "    # all URIs should be normalized in the form prefix:suffix\n",
    "    # not available at the moment, if desired you can change queries and URIs\n",
    "    # in \"/sam/script/modules/queries.py\"\n",
    "\n",
    "    # \"character_URI\": \"\",\n",
    "    # \"story_URI\": \"\",\n",
    "    # \n",
    "    \"selected_query_number\" : \"4\"\n",
    "}\n",
    "\n",
    "print_query(g, character_queries[f\"query_{options[\"selected_query_number\"]}\"])"
   ]
  },
  {
   "cell_type": "markdown",
   "id": "0a714d6d",
   "metadata": {},
   "source": [
    "## Scene queries\n",
    "### Diegetic:\n",
    "- Query 1. Who takes part in the scene?\n",
    "- Query 2. Where does the scene take place?\n",
    "- Query 3. When does the scene take place according to the diegetic time? __(not in dataset)__\n",
    "\n",
    "### Narratological:\n",
    "- Query 4. What is a fitting definition for scenes? How do we separate them? \n",
    "- Query 5. Can I find my way back in the reference media starting from a scene?\n",
    "- Query 6. Can scenes track state changes in the characters and the world?\n",
    "- Query 7. What's the content of the scene or a contained trope? __(not in dataset)__\n",
    "- Query 8. Does a scene belong to a series of scenes, creating a subset, or arc? __(not in dataset)__\n",
    "- Query 9. Does this series of scenes fit into a known narratological pattern?"
   ]
  },
  {
   "cell_type": "code",
   "execution_count": 4,
   "id": "87448b21",
   "metadata": {},
   "outputs": [
    {
     "data": {
      "text/html": [
       "<style type=\"text/css\">\n",
       "</style>\n",
       "<table id=\"T_abed0\">\n",
       "  <thead>\n",
       "    <tr>\n",
       "      <th id=\"T_abed0_level0_col0\" class=\"col_heading level0 col0\" >scene</th>\n",
       "      <th id=\"T_abed0_level0_col1\" class=\"col_heading level0 col1\" >scene_excerpt</th>\n",
       "      <th id=\"T_abed0_level0_col2\" class=\"col_heading level0 col2\" >scene_source</th>\n",
       "    </tr>\n",
       "  </thead>\n",
       "  <tbody>\n",
       "    <tr>\n",
       "      <td id=\"T_abed0_row0_col0\" class=\"data row0 col0\" >datasam:Novella_V_Giornata_II_Decameron_Boccaccio_Scene6</td>\n",
       "      <td id=\"T_abed0_row0_col1\" class=\"data row0 col1\" >datasam:Novella_V_Giornata_II_Decameron_Boccaccio_Scene6_excerpt</td>\n",
       "      <td id=\"T_abed0_row0_col2\" class=\"data row0 col2\" >https://it.wikisource.org/w/index.php?title=Decameron/Giornata_seconda/Novella_quinta&oldid=1999922</td>\n",
       "    </tr>\n",
       "  </tbody>\n",
       "</table>\n"
      ],
      "text/plain": [
       "<pandas.io.formats.style.Styler at 0x7f9b4636ed50>"
      ]
     },
     "execution_count": 4,
     "metadata": {},
     "output_type": "execute_result"
    }
   ],
   "source": [
    "from modules.queries import scene_queries\n",
    "\n",
    "# Change options according to your requested query, Character, and Story\n",
    "options = {\n",
    "    # all URIs should be normalized in the form prefix:suffix\n",
    "    # not available at the moment, if desired you can change queries and URIs\n",
    "    # in \"/sam/script/modules/queries.py\"\n",
    "    # \"scene_URI\": \"\",\n",
    "    # \"story_URI\": \"\",\n",
    "    #\n",
    "    \"selected_query_number\": \"5\"\n",
    "}\n",
    "\n",
    "\n",
    "print_query(g, scene_queries[f\"query_{options[\"selected_query_number\"]}\"])"
   ]
  },
  {
   "cell_type": "markdown",
   "id": "ea2b9fdf",
   "metadata": {},
   "source": [
    "## Trope queries\n",
    "Narratological:\n",
    "- Query 1. Definition of a trope that excludes all the possible figurative speech or techniques involving the embodying media, but flexible enough to include various sources;\n",
    "- Query 2. How can the trope be described?\n",
    "\n"
   ]
  },
  {
   "cell_type": "code",
   "execution_count": 6,
   "id": "b89f0fc9",
   "metadata": {},
   "outputs": [
    {
     "data": {
      "text/html": [
       "<style type=\"text/css\">\n",
       "</style>\n",
       "<table id=\"T_b5cc1\">\n",
       "  <thead>\n",
       "    <tr>\n",
       "      <th id=\"T_b5cc1_level0_col0\" class=\"col_heading level0 col0\" >trope</th>\n",
       "      <th id=\"T_b5cc1_level0_col1\" class=\"col_heading level0 col1\" >trope_source</th>\n",
       "    </tr>\n",
       "  </thead>\n",
       "  <tbody>\n",
       "    <tr>\n",
       "      <td id=\"T_b5cc1_row0_col0\" class=\"data row0 col0\" >datasam:trope_KnightInShiningArmor</td>\n",
       "      <td id=\"T_b5cc1_row0_col1\" class=\"data row0 col1\" >https://tvtropes.org/pmwiki/pmwiki.php/Main/KnightInShiningArmor</td>\n",
       "    </tr>\n",
       "  </tbody>\n",
       "</table>\n"
      ],
      "text/plain": [
       "<pandas.io.formats.style.Styler at 0x7f9b454e5590>"
      ]
     },
     "execution_count": 6,
     "metadata": {},
     "output_type": "execute_result"
    }
   ],
   "source": [
    "from modules.queries import trope_queries\n",
    "\n",
    "# Change options according to your requested query, Character, and Story\n",
    "options = {\n",
    "    # all URIs should be normalized in the form prefix:suffix\n",
    "    # not available at the moment, if desired you can change queries and URIs\n",
    "    # in \"/sam/script/modules/queries.py\"\n",
    "    # \"scene_URI\": \"\",\n",
    "    # \"story_URI\": \"\",\n",
    "    #\n",
    "    \"selected_query_number\": \"2\"\n",
    "}\n",
    "\n",
    "\n",
    "print_query(g, trope_queries[f\"query_{options[\"selected_query_number\"]}\"])"
   ]
  },
  {
   "cell_type": "markdown",
   "id": "61d6a24a",
   "metadata": {},
   "source": [
    "## Setting questions\n",
    "Diegetic:\n",
    "- Query 1.What place is the setting describing?\n",
    "- Query 2.Which are its coordinates?\n",
    "- Query 3.If the place isn’t real what’s its diegetic descriptor?\n",
    "- Query 4.What is the time for this setting?\n",
    "- Query 5.Which is the standard datetime data for the time?\n",
    "- Query 6.If the time is just hinted at, what’s its diegetic descriptor?\n",
    "\n",
    "Narratological:\n",
    "- Query 7. What is a fitting definition for Setting?\n"
   ]
  },
  {
   "cell_type": "code",
   "execution_count": null,
   "id": "ff516ca8",
   "metadata": {},
   "outputs": [],
   "source": [
    "trope_suggested = {\n",
    "    \"suggested_query1\": \"datasam:Novella_del_Grasso_Legnaiuolo_anonimo_piazzadiSanGiovanni\",\n",
    "    \"suggested_query2\": \"datasam:Novella_del_Grasso_Legnaiuolo_anonimo_piazzadiSanGiovanni\",\n",
    "    \"suggested_query3\": \"datasam:Novella_del_Grasso_Legnaiuolo_anonimo_piazzadiSanGiovanni\",\n",
    "    \"suggested_query4\": \"datasam:Novella_del_Grasso_Legnaiuolo_anonimo_piazzadiSanGiovanni\",\n",
    "    \"suggested_query5\": \"datasam:Novella_del_Grasso_Legnaiuolo_anonimo_piazzadiSanGiovanni\",\n",
    "    \"suggested_query6\": \"datasam:Novella_del_Grasso_Legnaiuolo_anonimo_piazzadiSanGiovanni\",\n",
    "    \"suggested_query7\": \"datasam:Novella_del_Grasso_Legnaiuolo_anonimo_piazzadiSanGiovanni\",\n",
    "}\n",
    "\n",
    "trope_queries = {\n",
    "    \"query_1\": \"\"\"\n",
    "    SELECT ?definition WHERE{\n",
    "        sam:Trope rdfs:label ?definition .\n",
    "    }\n",
    "    \"\"\",\n",
    "    \"query_2\": \"\"\"\n",
    "    SELECT ?trope ?trope_source WHERE{\n",
    "        BIND(uri(% s) AS ?trope)\n",
    "        % s sam:tropeURI ?trope_source\n",
    "    }\n",
    "\"\"\"% (trope_suggested['suggested_query2'], trope_suggested['suggested_query2']),\n",
    "}\n",
    "\n",
    "\n",
    "from modules.queries import setting_queries\n",
    "\n",
    "# Change options according to your requested query, Character, and Story\n",
    "options = {\n",
    "    # all URIs should be normalized in the form prefix:suffix\n",
    "    # not available at the moment, if desired you can change queries and URIs\n",
    "    # in \"/sam/script/modules/queries.py\"\n",
    "    # \"scene_URI\": \"\",\n",
    "    # \"story_URI\": \"\",\n",
    "    #\n",
    "    \"selected_query_number\": \"2\"\n",
    "}\n",
    "\n",
    "\n",
    "print_query(g, setting_queries[f\"query_{options[\"selected_query_number\"]}\"])"
   ]
  }
 ],
 "metadata": {
  "kernelspec": {
   "display_name": ".venv",
   "language": "python",
   "name": "python3"
  },
  "language_info": {
   "codemirror_mode": {
    "name": "ipython",
    "version": 3
   },
   "file_extension": ".py",
   "mimetype": "text/x-python",
   "name": "python",
   "nbconvert_exporter": "python",
   "pygments_lexer": "ipython3",
   "version": "3.13.3"
  }
 },
 "nbformat": 4,
 "nbformat_minor": 5
}
