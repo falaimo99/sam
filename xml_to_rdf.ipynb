{
 "cells": [
  {
   "cell_type": "code",
   "execution_count": 53,
   "id": "818b5d6a",
   "metadata": {},
   "outputs": [
    {
     "name": "stdout",
     "output_type": "stream",
     "text": [
      "/bin/bash: line 1: pip: command not found\n"
     ]
    }
   ],
   "source": [
    "# Check for existing libraries in environment\n",
    "! pip show rdflib lxml"
   ]
  },
  {
   "cell_type": "code",
   "execution_count": 54,
   "id": "0656b4db",
   "metadata": {},
   "outputs": [],
   "source": [
    "from lxml import etree\n",
    "import os\n",
    "\n",
    "# this set up globals for some useful URIs\n",
    "globals = {\n",
    "    \"xml_id\":\"{http://www.w3.org/XML/1998/namespace}id\",\n",
    "    \"base_URI\": \"https://github.com/falaimo99/sam/data/\",\n",
    "    }\n",
    "\n",
    "# this function extract the tree from the well formed xml\n",
    "def extract_tree(path):\n",
    "    tree = etree.parse(path)\n",
    "    root = tree.getroot()  \n",
    "    return root\n",
    "\n",
    "root = extract_tree(\"/home/owly/projects/tesi/shortStories/Novellino_II.xml\")\n"
   ]
  },
  {
   "cell_type": "code",
   "execution_count": null,
   "id": "72cd2d3b",
   "metadata": {},
   "outputs": [
    {
     "ename": "ValueError",
     "evalue": "not enough values to unpack (expected 3, got 1)",
     "output_type": "error",
     "traceback": [
      "\u001b[31m---------------------------------------------------------------------------\u001b[39m",
      "\u001b[31mValueError\u001b[39m                                Traceback (most recent call last)",
      "\u001b[36mCell\u001b[39m\u001b[36m \u001b[39m\u001b[32mIn[56]\u001b[39m\u001b[32m, line 46\u001b[39m\n\u001b[32m     42\u001b[39m     \u001b[38;5;28mprint\u001b[39m(\u001b[33mf\u001b[39m\u001b[33m\"\u001b[39m\u001b[38;5;132;01m{\u001b[39;00mstory_URI\u001b[38;5;132;01m}\u001b[39;00m\u001b[33m added as sam:Story;\u001b[39m\u001b[38;5;130;01m\\n\u001b[39;00m\u001b[38;5;132;01m{\u001b[39;00mcharacterList_URI\u001b[38;5;132;01m}\u001b[39;00m\u001b[33m added as sam:CharacterList\u001b[39m\u001b[33m\"\u001b[39m)\n\u001b[32m     44\u001b[39m     \u001b[38;5;28;01mreturn\u001b[39;00m g\n\u001b[32m---> \u001b[39m\u001b[32m46\u001b[39m \u001b[43mset_base_story\u001b[49m\u001b[43m(\u001b[49m\u001b[43m)\u001b[49m\n",
      "\u001b[36mCell\u001b[39m\u001b[36m \u001b[39m\u001b[32mIn[56]\u001b[39m\u001b[32m, line 39\u001b[39m, in \u001b[36mset_base_story\u001b[39m\u001b[34m()\u001b[39m\n\u001b[32m     37\u001b[39m g.add ( (story_URI, RDF.type, sam.Story) )\n\u001b[32m     38\u001b[39m g.add ( (characterList_URI, RDF.type, sam.CharacterList) )\n\u001b[32m---> \u001b[39m\u001b[32m39\u001b[39m \u001b[43mg\u001b[49m\u001b[43m.\u001b[49m\u001b[43madd\u001b[49m\u001b[43m \u001b[49m\u001b[43m(\u001b[49m\u001b[43m \u001b[49m\u001b[43m(\u001b[49m\u001b[43mstory_URI\u001b[49m\u001b[43m,\u001b[49m\u001b[43m \u001b[49m\u001b[43m)\u001b[49m\u001b[43m \u001b[49m\u001b[43m)\u001b[49m\n\u001b[32m     42\u001b[39m \u001b[38;5;28mprint\u001b[39m(\u001b[33mf\u001b[39m\u001b[33m\"\u001b[39m\u001b[38;5;132;01m{\u001b[39;00mstory_URI\u001b[38;5;132;01m}\u001b[39;00m\u001b[33m added as sam:Story;\u001b[39m\u001b[38;5;130;01m\\n\u001b[39;00m\u001b[38;5;132;01m{\u001b[39;00mcharacterList_URI\u001b[38;5;132;01m}\u001b[39;00m\u001b[33m added as sam:CharacterList\u001b[39m\u001b[33m\"\u001b[39m)\n\u001b[32m     44\u001b[39m \u001b[38;5;28;01mreturn\u001b[39;00m g\n",
      "\u001b[36mFile \u001b[39m\u001b[32m~/projects/sam/.venv/lib64/python3.13/site-packages/rdflib/graph.py:578\u001b[39m, in \u001b[36madd\u001b[39m\u001b[34m(self, triple)\u001b[39m\n",
      "\u001b[31mValueError\u001b[39m: not enough values to unpack (expected 3, got 1)"
     ]
    }
   ],
   "source": [
    "from rdflib import Graph, Literal, BNode, Namespace, URIRef\n",
    "from rdflib.namespace import RDF, RDFS, XSD, DCTERMS, OWL\n",
    "\n",
    "# Namespaces used by SAM\n",
    "sam = Namespace(\"https://purl.org/samcore#\")\n",
    "wdt = Namespace(\"https://www.wikidata.org/wiki/\")\n",
    "wdp = Namespace(\"https://www.wikidata.org/wiki/Property:\")\n",
    "cwrc = Namespace(\"https://sparql.cwrc.ca/ontologies/cwrc.html#\")\n",
    "\n",
    "# Graph Instantiation\n",
    "def setting_the_graph():\n",
    "    g = Graph()\n",
    "\n",
    "    g.bind(\"sam\", sam)\n",
    "    g.bind(\"wdt\", wdt)\n",
    "    g.bind(\"wdp\", wdp)\n",
    "    g.bind(\"cwrc\", cwrc)\n",
    "    \n",
    "    return g\n",
    "g: Graph = setting_the_graph()\n",
    "\n",
    "# Function to set up the story element and the mandatory related items\n",
    "# CharacterList and GroupOfScenes/Scenes\n",
    "def set_base_story ():\n",
    "    \n",
    "    story_URI = URIRef(\n",
    "        globals[\"base_URI\"] + root.find(\"Story\").attrib[globals['xml_id']]\n",
    "        )\n",
    "    characterList_URI = URIRef(\n",
    "        story_URI + \"_CharacterList\"\n",
    "    )\n",
    "\n",
    "    if root.findall('SequenceOfScenes'):\n",
    "        for SoS in root.findall('SequenceOfScenes'):\n",
    "            pass\n",
    "\n",
    "    g.add ( (story_URI, RDF.type, sam.Story) )\n",
    "    g.add ( (characterList_URI, RDF.type, sam.CharacterList) )\n",
    "    # g.add ( (story_URI, ) )\n",
    "\n",
    "\n",
    "    print(f\"{story_URI} added as sam:Story;\\n{characterList_URI} added as sam:CharacterList\")\n",
    "\n",
    "    return g\n",
    "\n",
    "set_base_story()"
   ]
  }
 ],
 "metadata": {
  "kernelspec": {
   "display_name": ".venv",
   "language": "python",
   "name": "python3"
  },
  "language_info": {
   "codemirror_mode": {
    "name": "ipython",
    "version": 3
   },
   "file_extension": ".py",
   "mimetype": "text/x-python",
   "name": "python",
   "nbconvert_exporter": "python",
   "pygments_lexer": "ipython3",
   "version": "3.13.3"
  }
 },
 "nbformat": 4,
 "nbformat_minor": 5
}
