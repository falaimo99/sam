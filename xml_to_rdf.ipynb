{
 "cells": [
  {
   "cell_type": "code",
   "execution_count": 70,
   "id": "818b5d6a",
   "metadata": {},
   "outputs": [
    {
     "name": "stdout",
     "output_type": "stream",
     "text": [
      "Requirement already satisfied: rdflib in ./.venv/lib64/python3.13/site-packages (7.1.4)\n",
      "Requirement already satisfied: lxml in ./.venv/lib64/python3.13/site-packages (5.4.0)\n",
      "Requirement already satisfied: pyparsing<4,>=2.1.0 in ./.venv/lib64/python3.13/site-packages (from rdflib) (3.2.3)\n"
     ]
    }
   ],
   "source": [
    "# Check for existing libraries in environment\n",
    "! pip install rdflib lxml"
   ]
  },
  {
   "cell_type": "code",
   "execution_count": 71,
   "id": "0656b4db",
   "metadata": {},
   "outputs": [],
   "source": [
    "from lxml import etree\n",
    "import os\n",
    "\n",
    "# this set up globals for some useful URIs\n",
    "globals = {\n",
    "    \"xml_id\":\"{http://www.w3.org/XML/1998/namespace}id\",\n",
    "    \"base_data_URI\": \"https://github.com/falaimo99/sam/data/\",\n",
    "    }\n",
    "\n",
    "# this function extract the tree from the well formed xml\n",
    "def extract_tree(path):\n",
    "    tree = etree.parse(path)\n",
    "    root = tree.getroot()  \n",
    "    return root\n",
    "\n",
    "root = extract_tree(\"./short_stories/Novellino_II.xml\")\n"
   ]
  },
  {
   "cell_type": "code",
   "execution_count": null,
   "id": "72cd2d3b",
   "metadata": {},
   "outputs": [],
   "source": [
    "from rdflib import Graph, Literal, BNode, Namespace, URIRef\n",
    "from rdflib.namespace import RDF, RDFS, XSD, DCTERMS, OWL\n",
    "\n",
    "# Namespaces used by SAM\n",
    "sam = Namespace(\"https://purl.org/samcore#\")\n",
    "wdt = Namespace(\"https://www.wikidata.org/wiki/\")\n",
    "wdp = Namespace(\"https://www.wikidata.org/wiki/Property:\")\n",
    "cwrc = Namespace(\"https://sparql.cwrc.ca/ontologies/cwrc.html#\")\n",
    "\n",
    "# Graph Instantiation\n",
    "def setting_the_graph():\n",
    "    g = Graph()\n",
    "\n",
    "    g.bind(\"sam\", sam)\n",
    "    g.bind(\"wdt\", wdt)\n",
    "    g.bind(\"wdp\", wdp)\n",
    "    g.bind(\"cwrc\", cwrc)\n",
    "    \n",
    "    return g\n",
    "\n",
    "# utils dictionary that get filled as the blocks connect themselves\n",
    "utils_URI = {}\n",
    "\n",
    "# Function to set up the story element and the mandatory related items\n",
    "# CharacterList and GroupOfScenes/Scenes\n",
    "def set_base_story ():\n",
    "    \n",
    "    story_URI = URIRef(\n",
    "        globals[\"base_data_URI\"] + root.find(\"Story\").attrib[globals[\"xml_id\"]]\n",
    "        )\n",
    "    utils_URI['story'] = story_URI\n",
    "    character_list_URI = URIRef(\n",
    "        story_URI + \"_CharacterList\"\n",
    "    )\n",
    "    utils_URI['CharacterList'] = character_list_URI\n",
    "\n",
    "    if root.findall(\"SequenceOfScenes\"):\n",
    "        for SoS in root.findall(\"SequenceOfScenes\"):\n",
    "            SoS_URI = story_URI + \"_\" + SoS.attrib[globals[\"xml_id\"]]\n",
    "            g.add( (story_URI, wdp.P527, SoS_URI) )\n",
    "            print(f\"{SoS_URI} added to Story via wdp:P527\")\n",
    "    \n",
    "    for scene in root.findall(\"Scene\"):\n",
    "        scene_URI = story_URI + \"_\" + scene.attrib[globals[\"xml_id\"]]\n",
    "        g.add( (story_URI, wdp.P527, scene_URI) )\n",
    "        g.add( (scene_URI, RDF.type, sam.Scene))\n",
    "        g.add( (scene_URI, RDF.type, sam.Scene))\n",
    "        print(f\"{scene_URI} added to Story via wdp:P527\")\n",
    "\n",
    "    g.add ( (story_URI, RDF.type, sam.Story) )\n",
    "    g.add ( (character_list_URI, RDF.type, sam.CharacterList) )\n",
    "\n",
    "    print(\n",
    "        f\"\"\"{story_URI} added as sam:Story;\n",
    "{character_list_URI} added as sam:CharacterList;\n",
    "        \"\"\"\n",
    "        )\n",
    "\n",
    "    return g\n",
    "\n",
    "# This function finds all the characters add them to the CharacterList\n",
    "#  and adds all the relevant information to the graph\n",
    "def set_characters():\n",
    "    character_list = root.find('CharacterList')\n",
    "\n",
    "    for character in character_list.findall('Character'):\n",
    "        character_URI = (\n",
    "            utils_URI['story']+\"_\"+ character.attrib[globals['xml_id']]\n",
    "            )\n",
    "        g.add((utils_URI['CharacterList'], wdp.P527, character_URI))\n",
    "        \n",
    "\n",
    "    for character_group in character_list.findall('CharacterGroup'):\n",
    "        character_group_URI = (\n",
    "            utils_URI['story']+\"_\"+ character_group.attrib[globals['xml_id']]\n",
    "        )\n",
    "        g.add((utils_URI['CharacterList'], wdp.P527, character_group_URI))\n",
    "        \n",
    "    return g\n",
    "\n",
    "# Ancillary functions that attaches the properties to the characters\n",
    "def character_properties(character_URI):\n",
    "    # attributes analyzer. Some attributes are a shorthand for the literal part\n",
    "    # of a character class\n",
    "    \n",
    "\n",
    "    # nested elements analyzer. Full reference where attributes are only used\n",
    "    # when describing a data property\n",
    "\n",
    "    pass"
   ]
  },
  {
   "cell_type": "code",
   "execution_count": 73,
   "id": "dd68c716",
   "metadata": {},
   "outputs": [
    {
     "name": "stdout",
     "output_type": "stream",
     "text": [
      "https://github.com/falaimo99/sam/data/novellino_II_anonimo_scene1 added to Story via wdp:P527\n",
      "https://github.com/falaimo99/sam/data/novellino_II_anonimo_scene2 added to Story via wdp:P527\n",
      "https://github.com/falaimo99/sam/data/novellino_II_anonimo_scene3 added to Story via wdp:P527\n",
      "https://github.com/falaimo99/sam/data/novellino_II_anonimo_scene4 added to Story via wdp:P527\n",
      "https://github.com/falaimo99/sam/data/novellino_II_anonimo_scene5 added to Story via wdp:P527\n",
      "https://github.com/falaimo99/sam/data/novellino_II_anonimo_scene6 added to Story via wdp:P527\n",
      "https://github.com/falaimo99/sam/data/novellino_II_anonimo added as sam:Story;\n",
      "https://github.com/falaimo99/sam/data/novellino_II_anonimo_CharacterList added as sam:CharacterList;\n",
      "        \n"
     ]
    }
   ],
   "source": [
    "# Testing block\n",
    "g: Graph = setting_the_graph()\n",
    "\n",
    "set_base_story()\n",
    "set_characters_to_list()"
   ]
  },
  {
   "cell_type": "code",
   "execution_count": 74,
   "id": "f760a254",
   "metadata": {},
   "outputs": [
    {
     "name": "stdout",
     "output_type": "stream",
     "text": [
      "@prefix sam: <https://purl.org/samcore#> .\n",
      "@prefix wdp: <https://www.wikidata.org/wiki/Property:> .\n",
      "\n",
      "<https://github.com/falaimo99/sam/data/novellino_II_anonimo> a sam:Story ;\n",
      "    wdp:P527 <https://github.com/falaimo99/sam/data/novellino_II_anonimo_scene1>,\n",
      "        <https://github.com/falaimo99/sam/data/novellino_II_anonimo_scene2>,\n",
      "        <https://github.com/falaimo99/sam/data/novellino_II_anonimo_scene3>,\n",
      "        <https://github.com/falaimo99/sam/data/novellino_II_anonimo_scene4>,\n",
      "        <https://github.com/falaimo99/sam/data/novellino_II_anonimo_scene5>,\n",
      "        <https://github.com/falaimo99/sam/data/novellino_II_anonimo_scene6> .\n",
      "\n",
      "<https://github.com/falaimo99/sam/data/novellino_II_anonimo_CharacterList> a sam:CharacterList ;\n",
      "    wdp:P527 <https://github.com/falaimo99/sam/data/novellino_II_anonimo_ambasciatori>,\n",
      "        <https://github.com/falaimo99/sam/data/novellino_II_anonimo_federigoImperadore>,\n",
      "        <https://github.com/falaimo99/sam/data/novellino_II_anonimo_lapidario>,\n",
      "        <https://github.com/falaimo99/sam/data/novellino_II_anonimo_prestoGiovanni> .\n",
      "\n",
      "<https://github.com/falaimo99/sam/data/novellino_II_anonimo_scene1> a sam:Scene .\n",
      "\n",
      "<https://github.com/falaimo99/sam/data/novellino_II_anonimo_scene2> a sam:Scene .\n",
      "\n",
      "<https://github.com/falaimo99/sam/data/novellino_II_anonimo_scene3> a sam:Scene .\n",
      "\n",
      "<https://github.com/falaimo99/sam/data/novellino_II_anonimo_scene4> a sam:Scene .\n",
      "\n",
      "<https://github.com/falaimo99/sam/data/novellino_II_anonimo_scene5> a sam:Scene .\n",
      "\n",
      "<https://github.com/falaimo99/sam/data/novellino_II_anonimo_scene6> a sam:Scene .\n",
      "\n",
      "\n"
     ]
    }
   ],
   "source": [
    "g.print()"
   ]
  }
 ],
 "metadata": {
  "kernelspec": {
   "display_name": ".venv",
   "language": "python",
   "name": "python3"
  },
  "language_info": {
   "codemirror_mode": {
    "name": "ipython",
    "version": 3
   },
   "file_extension": ".py",
   "mimetype": "text/x-python",
   "name": "python",
   "nbconvert_exporter": "python",
   "pygments_lexer": "ipython3",
   "version": "3.13.3"
  }
 },
 "nbformat": 4,
 "nbformat_minor": 5
}
